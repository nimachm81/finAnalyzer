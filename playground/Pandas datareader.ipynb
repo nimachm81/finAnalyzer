{
 "cells": [
  {
   "cell_type": "code",
   "execution_count": 3,
   "metadata": {},
   "outputs": [],
   "source": [
    "%matplotlib inline\n",
    "import os\n",
    "import pandas_datareader as pdr\n",
    "import pandas_datareader.data as web\n",
    "from datetime import datetime\n"
   ]
  },
  {
   "cell_type": "markdown",
   "metadata": {},
   "source": [
    "### TIINGO"
   ]
  },
  {
   "cell_type": "code",
   "execution_count": 4,
   "metadata": {},
   "outputs": [
    {
     "data": {
      "text/html": [
       "<div>\n",
       "<style scoped>\n",
       "    .dataframe tbody tr th:only-of-type {\n",
       "        vertical-align: middle;\n",
       "    }\n",
       "\n",
       "    .dataframe tbody tr th {\n",
       "        vertical-align: top;\n",
       "    }\n",
       "\n",
       "    .dataframe thead th {\n",
       "        text-align: right;\n",
       "    }\n",
       "</style>\n",
       "<table border=\"1\" class=\"dataframe\">\n",
       "  <thead>\n",
       "    <tr style=\"text-align: right;\">\n",
       "      <th></th>\n",
       "      <th></th>\n",
       "      <th>close</th>\n",
       "      <th>high</th>\n",
       "      <th>low</th>\n",
       "      <th>open</th>\n",
       "      <th>volume</th>\n",
       "      <th>adjClose</th>\n",
       "      <th>adjHigh</th>\n",
       "      <th>adjLow</th>\n",
       "      <th>adjOpen</th>\n",
       "      <th>adjVolume</th>\n",
       "      <th>divCash</th>\n",
       "      <th>splitFactor</th>\n",
       "    </tr>\n",
       "    <tr>\n",
       "      <th>symbol</th>\n",
       "      <th>date</th>\n",
       "      <th></th>\n",
       "      <th></th>\n",
       "      <th></th>\n",
       "      <th></th>\n",
       "      <th></th>\n",
       "      <th></th>\n",
       "      <th></th>\n",
       "      <th></th>\n",
       "      <th></th>\n",
       "      <th></th>\n",
       "      <th></th>\n",
       "      <th></th>\n",
       "    </tr>\n",
       "  </thead>\n",
       "  <tbody>\n",
       "    <tr>\n",
       "      <th rowspan=\"10\" valign=\"top\">GOOG</th>\n",
       "      <th>2019-11-11 00:00:00+00:00</th>\n",
       "      <td>1299.19</td>\n",
       "      <td>1306.42</td>\n",
       "      <td>1297.41</td>\n",
       "      <td>1303.18</td>\n",
       "      <td>1012429</td>\n",
       "      <td>1299.19</td>\n",
       "      <td>1306.42</td>\n",
       "      <td>1297.41</td>\n",
       "      <td>1303.18</td>\n",
       "      <td>1012429</td>\n",
       "      <td>0.0</td>\n",
       "      <td>1.0</td>\n",
       "    </tr>\n",
       "    <tr>\n",
       "      <th>2019-11-12 00:00:00+00:00</th>\n",
       "      <td>1298.80</td>\n",
       "      <td>1310.00</td>\n",
       "      <td>1295.77</td>\n",
       "      <td>1300.00</td>\n",
       "      <td>1085859</td>\n",
       "      <td>1298.80</td>\n",
       "      <td>1310.00</td>\n",
       "      <td>1295.77</td>\n",
       "      <td>1300.00</td>\n",
       "      <td>1085859</td>\n",
       "      <td>0.0</td>\n",
       "      <td>1.0</td>\n",
       "    </tr>\n",
       "    <tr>\n",
       "      <th>2019-11-13 00:00:00+00:00</th>\n",
       "      <td>1298.00</td>\n",
       "      <td>1304.30</td>\n",
       "      <td>1293.51</td>\n",
       "      <td>1294.07</td>\n",
       "      <td>853861</td>\n",
       "      <td>1298.00</td>\n",
       "      <td>1304.30</td>\n",
       "      <td>1293.51</td>\n",
       "      <td>1294.07</td>\n",
       "      <td>853861</td>\n",
       "      <td>0.0</td>\n",
       "      <td>1.0</td>\n",
       "    </tr>\n",
       "    <tr>\n",
       "      <th>2019-11-14 00:00:00+00:00</th>\n",
       "      <td>1311.46</td>\n",
       "      <td>1317.00</td>\n",
       "      <td>1295.65</td>\n",
       "      <td>1297.50</td>\n",
       "      <td>1194305</td>\n",
       "      <td>1311.46</td>\n",
       "      <td>1317.00</td>\n",
       "      <td>1295.65</td>\n",
       "      <td>1297.50</td>\n",
       "      <td>1194305</td>\n",
       "      <td>0.0</td>\n",
       "      <td>1.0</td>\n",
       "    </tr>\n",
       "    <tr>\n",
       "      <th>2019-11-15 00:00:00+00:00</th>\n",
       "      <td>1334.87</td>\n",
       "      <td>1334.88</td>\n",
       "      <td>1314.28</td>\n",
       "      <td>1318.94</td>\n",
       "      <td>1782955</td>\n",
       "      <td>1334.87</td>\n",
       "      <td>1334.88</td>\n",
       "      <td>1314.28</td>\n",
       "      <td>1318.94</td>\n",
       "      <td>1782955</td>\n",
       "      <td>0.0</td>\n",
       "      <td>1.0</td>\n",
       "    </tr>\n",
       "    <tr>\n",
       "      <th>2019-11-18 00:00:00+00:00</th>\n",
       "      <td>1320.70</td>\n",
       "      <td>1335.53</td>\n",
       "      <td>1317.50</td>\n",
       "      <td>1332.22</td>\n",
       "      <td>1488083</td>\n",
       "      <td>1320.70</td>\n",
       "      <td>1335.53</td>\n",
       "      <td>1317.50</td>\n",
       "      <td>1332.22</td>\n",
       "      <td>1488083</td>\n",
       "      <td>0.0</td>\n",
       "      <td>1.0</td>\n",
       "    </tr>\n",
       "    <tr>\n",
       "      <th>2019-11-19 00:00:00+00:00</th>\n",
       "      <td>1315.46</td>\n",
       "      <td>1327.70</td>\n",
       "      <td>1312.80</td>\n",
       "      <td>1327.70</td>\n",
       "      <td>1269372</td>\n",
       "      <td>1315.46</td>\n",
       "      <td>1327.70</td>\n",
       "      <td>1312.80</td>\n",
       "      <td>1327.70</td>\n",
       "      <td>1269372</td>\n",
       "      <td>0.0</td>\n",
       "      <td>1.0</td>\n",
       "    </tr>\n",
       "    <tr>\n",
       "      <th>2019-11-20 00:00:00+00:00</th>\n",
       "      <td>1303.05</td>\n",
       "      <td>1315.00</td>\n",
       "      <td>1291.15</td>\n",
       "      <td>1311.74</td>\n",
       "      <td>1309835</td>\n",
       "      <td>1303.05</td>\n",
       "      <td>1315.00</td>\n",
       "      <td>1291.15</td>\n",
       "      <td>1311.74</td>\n",
       "      <td>1309835</td>\n",
       "      <td>0.0</td>\n",
       "      <td>1.0</td>\n",
       "    </tr>\n",
       "    <tr>\n",
       "      <th>2019-11-21 00:00:00+00:00</th>\n",
       "      <td>1301.35</td>\n",
       "      <td>1312.59</td>\n",
       "      <td>1293.00</td>\n",
       "      <td>1301.48</td>\n",
       "      <td>995499</td>\n",
       "      <td>1301.35</td>\n",
       "      <td>1312.59</td>\n",
       "      <td>1293.00</td>\n",
       "      <td>1301.48</td>\n",
       "      <td>995499</td>\n",
       "      <td>0.0</td>\n",
       "      <td>1.0</td>\n",
       "    </tr>\n",
       "    <tr>\n",
       "      <th>2019-11-22 00:00:00+00:00</th>\n",
       "      <td>1295.34</td>\n",
       "      <td>1308.73</td>\n",
       "      <td>1291.41</td>\n",
       "      <td>1305.62</td>\n",
       "      <td>1386506</td>\n",
       "      <td>1295.34</td>\n",
       "      <td>1308.73</td>\n",
       "      <td>1291.41</td>\n",
       "      <td>1305.62</td>\n",
       "      <td>1386506</td>\n",
       "      <td>0.0</td>\n",
       "      <td>1.0</td>\n",
       "    </tr>\n",
       "  </tbody>\n",
       "</table>\n",
       "</div>"
      ],
      "text/plain": [
       "                                    close     high      low     open   volume  \\\n",
       "symbol date                                                                     \n",
       "GOOG   2019-11-11 00:00:00+00:00  1299.19  1306.42  1297.41  1303.18  1012429   \n",
       "       2019-11-12 00:00:00+00:00  1298.80  1310.00  1295.77  1300.00  1085859   \n",
       "       2019-11-13 00:00:00+00:00  1298.00  1304.30  1293.51  1294.07   853861   \n",
       "       2019-11-14 00:00:00+00:00  1311.46  1317.00  1295.65  1297.50  1194305   \n",
       "       2019-11-15 00:00:00+00:00  1334.87  1334.88  1314.28  1318.94  1782955   \n",
       "       2019-11-18 00:00:00+00:00  1320.70  1335.53  1317.50  1332.22  1488083   \n",
       "       2019-11-19 00:00:00+00:00  1315.46  1327.70  1312.80  1327.70  1269372   \n",
       "       2019-11-20 00:00:00+00:00  1303.05  1315.00  1291.15  1311.74  1309835   \n",
       "       2019-11-21 00:00:00+00:00  1301.35  1312.59  1293.00  1301.48   995499   \n",
       "       2019-11-22 00:00:00+00:00  1295.34  1308.73  1291.41  1305.62  1386506   \n",
       "\n",
       "                                  adjClose  adjHigh   adjLow  adjOpen  \\\n",
       "symbol date                                                             \n",
       "GOOG   2019-11-11 00:00:00+00:00   1299.19  1306.42  1297.41  1303.18   \n",
       "       2019-11-12 00:00:00+00:00   1298.80  1310.00  1295.77  1300.00   \n",
       "       2019-11-13 00:00:00+00:00   1298.00  1304.30  1293.51  1294.07   \n",
       "       2019-11-14 00:00:00+00:00   1311.46  1317.00  1295.65  1297.50   \n",
       "       2019-11-15 00:00:00+00:00   1334.87  1334.88  1314.28  1318.94   \n",
       "       2019-11-18 00:00:00+00:00   1320.70  1335.53  1317.50  1332.22   \n",
       "       2019-11-19 00:00:00+00:00   1315.46  1327.70  1312.80  1327.70   \n",
       "       2019-11-20 00:00:00+00:00   1303.05  1315.00  1291.15  1311.74   \n",
       "       2019-11-21 00:00:00+00:00   1301.35  1312.59  1293.00  1301.48   \n",
       "       2019-11-22 00:00:00+00:00   1295.34  1308.73  1291.41  1305.62   \n",
       "\n",
       "                                  adjVolume  divCash  splitFactor  \n",
       "symbol date                                                        \n",
       "GOOG   2019-11-11 00:00:00+00:00    1012429      0.0          1.0  \n",
       "       2019-11-12 00:00:00+00:00    1085859      0.0          1.0  \n",
       "       2019-11-13 00:00:00+00:00     853861      0.0          1.0  \n",
       "       2019-11-14 00:00:00+00:00    1194305      0.0          1.0  \n",
       "       2019-11-15 00:00:00+00:00    1782955      0.0          1.0  \n",
       "       2019-11-18 00:00:00+00:00    1488083      0.0          1.0  \n",
       "       2019-11-19 00:00:00+00:00    1269372      0.0          1.0  \n",
       "       2019-11-20 00:00:00+00:00    1309835      0.0          1.0  \n",
       "       2019-11-21 00:00:00+00:00     995499      0.0          1.0  \n",
       "       2019-11-22 00:00:00+00:00    1386506      0.0          1.0  "
      ]
     },
     "execution_count": 4,
     "metadata": {},
     "output_type": "execute_result"
    }
   ],
   "source": [
    "\n",
    "df = pdr.get_data_tiingo('GOOG', api_key=os.getenv(\"TIINGO_API_KEY\"))\n",
    "df[-10:]\n"
   ]
  },
  {
   "cell_type": "markdown",
   "metadata": {},
   "source": [
    "### IEX"
   ]
  },
  {
   "cell_type": "code",
   "execution_count": 5,
   "metadata": {},
   "outputs": [
    {
     "data": {
      "text/plain": [
       "open           177.15\n",
       "high           177.62\n",
       "low            174.98\n",
       "close          175.73\n",
       "volume    18065159.00\n",
       "Name: 2018-08-31, dtype: float64"
      ]
     },
     "execution_count": 5,
     "metadata": {},
     "output_type": "execute_result"
    }
   ],
   "source": [
    "start = datetime(2015, 9, 1)\n",
    "end = datetime(2019, 9, 1)\n",
    "f = web.DataReader('FB', 'iex', start, end, api_key=os.getenv(\"IEX_API_KEY\"))\n",
    "\n",
    "f.loc['2018-08-31']"
   ]
  },
  {
   "cell_type": "code",
   "execution_count": 6,
   "metadata": {},
   "outputs": [
    {
     "data": {
      "text/plain": [
       "<matplotlib.axes._subplots.AxesSubplot at 0x122f98e10>"
      ]
     },
     "execution_count": 6,
     "metadata": {},
     "output_type": "execute_result"
    },
    {
     "data": {
      "image/png": "[encoded data removed]",
      "text/plain": [
       "<Figure size 432x288 with 1 Axes>"
      ]
     },
     "metadata": {
      "needs_background": "light"
     },
     "output_type": "display_data"
    }
   ],
   "source": [
    "f.open.plot()"
   ]
  },
  {
   "cell_type": "code",
   "execution_count": 18,
   "metadata": {},
   "outputs": [
    {
     "data": {
      "text/html": [
       "<div>\n",
       "<style scoped>\n",
       "    .dataframe tbody tr th:only-of-type {\n",
       "        vertical-align: middle;\n",
       "    }\n",
       "\n",
       "    .dataframe tbody tr th {\n",
       "        vertical-align: top;\n",
       "    }\n",
       "\n",
       "    .dataframe thead th {\n",
       "        text-align: right;\n",
       "    }\n",
       "</style>\n",
       "<table border=\"1\" class=\"dataframe\">\n",
       "  <thead>\n",
       "    <tr style=\"text-align: right;\">\n",
       "      <th></th>\n",
       "    </tr>\n",
       "  </thead>\n",
       "  <tbody>\n",
       "  </tbody>\n",
       "</table>\n",
       "</div>"
      ],
      "text/plain": [
       "Empty DataFrame\n",
       "Columns: []\n",
       "Index: []"
      ]
     },
     "execution_count": 18,
     "metadata": {},
     "output_type": "execute_result"
    }
   ],
   "source": [
    "f = web.DataReader('AAPL', 'iex-tops')\n",
    "f[:10]"
   ]
  },
  {
   "cell_type": "markdown",
   "metadata": {},
   "source": [
    "### Alpha Vantage"
   ]
  },
  {
   "cell_type": "code",
   "execution_count": null,
   "metadata": {},
   "outputs": [],
   "source": [
    "## get api key\n",
    "ALPHAVANTAGE_API_KEY = \"\"\n",
    "\n",
    "## av-intraday, av_daily, av_daily_adjusted, ..\n",
    "f = web.DataReader(\"AAPL\", \"av-daily\", start=datetime(2017, 2, 9),\n",
    "                    end=datetime(2017, 5, 24),\n",
    "                    api_key=ALPHAVANTAGE_API_KEY)"
   ]
  },
  {
   "cell_type": "code",
   "execution_count": 36,
   "metadata": {},
   "outputs": [
    {
     "data": {
      "text/plain": [
       "open      1.316500e+02\n",
       "high      1.324450e+02\n",
       "low       1.311200e+02\n",
       "close     1.324200e+02\n",
       "volume    2.834986e+07\n",
       "Name: 2017-02-09, dtype: float64"
      ]
     },
     "execution_count": 36,
     "metadata": {},
     "output_type": "execute_result"
    }
   ],
   "source": [
    "f.loc[\"2017-02-09\"]"
   ]
  },
  {
   "cell_type": "code",
   "execution_count": 38,
   "metadata": {},
   "outputs": [
    {
     "data": {
      "text/html": [
       "<div>\n",
       "<style scoped>\n",
       "    .dataframe tbody tr th:only-of-type {\n",
       "        vertical-align: middle;\n",
       "    }\n",
       "\n",
       "    .dataframe tbody tr th {\n",
       "        vertical-align: top;\n",
       "    }\n",
       "\n",
       "    .dataframe thead th {\n",
       "        text-align: right;\n",
       "    }\n",
       "</style>\n",
       "<table border=\"1\" class=\"dataframe\">\n",
       "  <thead>\n",
       "    <tr style=\"text-align: right;\">\n",
       "      <th></th>\n",
       "      <th>price</th>\n",
       "      <th>volume</th>\n",
       "      <th>timestamp</th>\n",
       "    </tr>\n",
       "    <tr>\n",
       "      <th>symbol</th>\n",
       "      <th></th>\n",
       "      <th></th>\n",
       "      <th></th>\n",
       "    </tr>\n",
       "  </thead>\n",
       "  <tbody>\n",
       "    <tr>\n",
       "      <th>AAPL</th>\n",
       "      <td>262.650</td>\n",
       "      <td>NaN</td>\n",
       "      <td>2019-11-22 15:59:59</td>\n",
       "    </tr>\n",
       "    <tr>\n",
       "      <th>TSLA</th>\n",
       "      <td>332.955</td>\n",
       "      <td>NaN</td>\n",
       "      <td>2019-11-22 15:59:58</td>\n",
       "    </tr>\n",
       "  </tbody>\n",
       "</table>\n",
       "</div>"
      ],
      "text/plain": [
       "          price  volume            timestamp\n",
       "symbol                                      \n",
       "AAPL    262.650     NaN  2019-11-22 15:59:59\n",
       "TSLA    332.955     NaN  2019-11-22 15:59:58"
      ]
     },
     "execution_count": 38,
     "metadata": {},
     "output_type": "execute_result"
    }
   ],
   "source": [
    "# real time quotes for up to 100 symbols\n",
    "\n",
    "web.get_quote_av([\"AAPL\", \"TSLA\"], api_key=ALPHAVANTAGE_API_KEY)"
   ]
  },
  {
   "cell_type": "markdown",
   "metadata": {},
   "source": [
    "### Nasdaq aymbols"
   ]
  },
  {
   "cell_type": "code",
   "execution_count": 1,
   "metadata": {},
   "outputs": [],
   "source": [
    "from pandas_datareader.nasdaq_trader import get_nasdaq_symbols\n",
    "\n",
    "symbols = get_nasdaq_symbols()"
   ]
  },
  {
   "cell_type": "code",
   "execution_count": 2,
   "metadata": {},
   "outputs": [
    {
     "name": "stdout",
     "output_type": "stream",
     "text": [
      "Nasdaq Traded                                                    True\n",
      "Security Name       International Business Machines Corporation Co...\n",
      "Listing Exchange                                                    N\n",
      "Market Category                                                      \n",
      "ETF                                                             False\n",
      "Round Lot Size                                                    100\n",
      "Test Issue                                                      False\n",
      "Financial Status                                                  NaN\n",
      "CQS Symbol                                                        IBM\n",
      "NASDAQ Symbol                                                     IBM\n",
      "NextShares                                                      False\n",
      "Name: IBM, dtype: object\n"
     ]
    }
   ],
   "source": [
    "print(symbols.loc['IBM'])"
   ]
  },
  {
   "cell_type": "code",
   "execution_count": 3,
   "metadata": {},
   "outputs": [
    {
     "name": "stdout",
     "output_type": "stream",
     "text": [
      "Index(['A', 'AA', 'AAAU', 'AACG', 'AADR', 'AAL', 'AAMC', 'AAME', 'AAN', 'AAOI',\n",
      "       'AAON', 'AAP', 'AAPL', 'AAT', 'AAU', 'AAWW', 'AAXJ', 'AAXN', 'AB',\n",
      "       'ABB', 'ABBV', 'ABC', 'ABCB', 'ABDC', 'ABEO', 'ABEV', 'ABG', 'ABIO',\n",
      "       'ABM', 'ABMD', 'ABR', 'ABR$A', 'ABR$B', 'ABR$C', 'ABT', 'ABTX', 'ABUS',\n",
      "       'AC', 'ACA', 'ACAD', 'ACAM', 'ACAMU', 'ACAMW', 'ACB', 'ACBI', 'ACC',\n",
      "       'ACCO', 'ACEL', 'ACEL.W', 'ACER', 'ACES', 'ACGL', 'ACGLO', 'ACGLP',\n",
      "       'ACH', 'ACHC', 'ACHN', 'ACHV', 'ACIA', 'ACIO', 'ACIU', 'ACIW', 'ACLS',\n",
      "       'ACM', 'ACMR', 'ACN', 'ACNB', 'ACOR', 'ACP', 'ACRE', 'ACRS', 'ACRX',\n",
      "       'ACSG', 'ACSI', 'ACST', 'ACT', 'ACTG', 'ACTT', 'ACTTU', 'ACTTW', 'ACU',\n",
      "       'ACV', 'ACWF', 'ACWI', 'ACWV', 'ACWX', 'ACY', 'ADAP', 'ADBE', 'ADC',\n",
      "       'ADES', 'ADI', 'ADIL', 'ADILW', 'ADM', 'ADMA', 'ADME', 'ADMP', 'ADMS',\n",
      "       'ADNT'],\n",
      "      dtype='object', name='Symbol')\n"
     ]
    }
   ],
   "source": [
    "inds = symbols.index\n",
    "print(inds[:100])"
   ]
  },
  {
   "cell_type": "code",
   "execution_count": 10,
   "metadata": {},
   "outputs": [
    {
     "data": {
      "text/plain": [
       "1"
      ]
     },
     "execution_count": 10,
     "metadata": {},
     "output_type": "execute_result"
    }
   ],
   "source": [
    "# convert to list\n",
    "inds.tolist().index(\"AA\")"
   ]
  },
  {
   "cell_type": "code",
   "execution_count": null,
   "metadata": {},
   "outputs": [],
   "source": []
  }
 ],
 "metadata": {
  "kernelspec": {
   "display_name": "Python 3",
   "language": "python",
   "name": "python3"
  },
  "language_info": {
   "codemirror_mode": {
    "name": "ipython",
    "version": 3
   },
   "file_extension": ".py",
   "mimetype": "text/x-python",
   "name": "python",
   "nbconvert_exporter": "python",
   "pygments_lexer": "ipython3",
   "version": "3.7.5"
  }
 },
 "nbformat": 4,
 "nbformat_minor": 2
}
